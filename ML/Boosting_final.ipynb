{
 "cells": [
  {
   "cell_type": "code",
   "execution_count": 1,
   "id": "b0058525",
   "metadata": {},
   "outputs": [],
   "source": [
    "import matplotlib.pyplot as plt\n",
    "import pandas as pd\n",
    "import numpy as np\n",
    "from sklearn import tree\n",
    "import graphviz\n",
    "from os import system\n",
    "import sklearn.metrics as mt\n",
    "from sklearn.metrics import accuracy_score\n",
    "from sklearn.metrics import mean_absolute_error\n",
    "from sklearn.metrics import classification_report, mean_squared_error, r2_score\n",
    "from sklearn.model_selection import cross_val_score, cross_validate,train_test_split\n",
    "from sklearn.ensemble import AdaBoostRegressor\n",
    "from sklearn.ensemble import GradientBoostingRegressor\n",
    "from sklearn.tree import DecisionTreeRegressor\n",
    "from sklearn.linear_model import Lasso\n",
    "from sklearn.model_selection import GridSearchCV\n",
    "from sklearn.model_selection import cross_val_score, KFold\n",
    "from sklearn.ensemble import AdaBoostClassifier"
   ]
  },
  {
   "cell_type": "markdown",
   "id": "c1769c55",
   "metadata": {},
   "source": [
    "# 데이터 불러오기 및 전처리 과정(모든 모델에 동일부분임)"
   ]
  },
  {
   "cell_type": "code",
   "execution_count": 2,
   "id": "d9aa2262",
   "metadata": {},
   "outputs": [],
   "source": [
    "data = pd.read_csv('data_file_csv.csv', encoding='cp949')"
   ]
  },
  {
   "cell_type": "code",
   "execution_count": 3,
   "id": "07eb4323",
   "metadata": {},
   "outputs": [
    {
     "data": {
      "text/html": [
       "<div>\n",
       "<style scoped>\n",
       "    .dataframe tbody tr th:only-of-type {\n",
       "        vertical-align: middle;\n",
       "    }\n",
       "\n",
       "    .dataframe tbody tr th {\n",
       "        vertical-align: top;\n",
       "    }\n",
       "\n",
       "    .dataframe thead th {\n",
       "        text-align: right;\n",
       "    }\n",
       "</style>\n",
       "<table border=\"1\" class=\"dataframe\">\n",
       "  <thead>\n",
       "    <tr style=\"text-align: right;\">\n",
       "      <th></th>\n",
       "      <th>no</th>\n",
       "      <th>cartype</th>\n",
       "      <th>receipttime</th>\n",
       "      <th>settime</th>\n",
       "      <th>ridetime</th>\n",
       "      <th>startpos1</th>\n",
       "      <th>startpos2</th>\n",
       "      <th>endpos1</th>\n",
       "      <th>endpos2</th>\n",
       "      <th>receipt</th>\n",
       "      <th>...</th>\n",
       "      <th>startlat</th>\n",
       "      <th>startlon</th>\n",
       "      <th>endlat</th>\n",
       "      <th>endlon</th>\n",
       "      <th>whycall</th>\n",
       "      <th>gotoschool</th>\n",
       "      <th>gotocharge</th>\n",
       "      <th>endplus</th>\n",
       "      <th>end_destination</th>\n",
       "      <th>startplus</th>\n",
       "    </tr>\n",
       "  </thead>\n",
       "  <tbody>\n",
       "    <tr>\n",
       "      <th>0</th>\n",
       "      <td>8075</td>\n",
       "      <td>중형 승합</td>\n",
       "      <td>2022-05-07 오전 12:08:21</td>\n",
       "      <td>2022-05-07 오전 12:15:19</td>\n",
       "      <td>2022-05-07 오전 12:30:26</td>\n",
       "      <td>7</td>\n",
       "      <td>235</td>\n",
       "      <td>동작구</td>\n",
       "      <td>155</td>\n",
       "      <td>2022/05/07 0:08</td>\n",
       "      <td>...</td>\n",
       "      <td>37.53</td>\n",
       "      <td>126.90</td>\n",
       "      <td>37.49</td>\n",
       "      <td>126.90</td>\n",
       "      <td>0</td>\n",
       "      <td>0</td>\n",
       "      <td>0</td>\n",
       "      <td>7469</td>\n",
       "      <td>0</td>\n",
       "      <td>7569</td>\n",
       "    </tr>\n",
       "    <tr>\n",
       "      <th>1</th>\n",
       "      <td>8231</td>\n",
       "      <td>중형승합</td>\n",
       "      <td>2022-05-07 오전 12:08:51</td>\n",
       "      <td>2022-05-07 오전 12:17:25</td>\n",
       "      <td>2022-05-07 오전 12:46:23</td>\n",
       "      <td>13</td>\n",
       "      <td>255</td>\n",
       "      <td>관악구</td>\n",
       "      <td>141</td>\n",
       "      <td>2022/05/07 0:08</td>\n",
       "      <td>...</td>\n",
       "      <td>37.50</td>\n",
       "      <td>126.88</td>\n",
       "      <td>37.47</td>\n",
       "      <td>126.97</td>\n",
       "      <td>0</td>\n",
       "      <td>0</td>\n",
       "      <td>0</td>\n",
       "      <td>7469</td>\n",
       "      <td>0</td>\n",
       "      <td>7568</td>\n",
       "    </tr>\n",
       "    <tr>\n",
       "      <th>2</th>\n",
       "      <td>8279</td>\n",
       "      <td>중형 승합</td>\n",
       "      <td>2022-05-07 오전 12:09:00</td>\n",
       "      <td>2022-05-07 오전 12:26:57</td>\n",
       "      <td>2022-05-07 오전 12:54:43</td>\n",
       "      <td>8</td>\n",
       "      <td>172</td>\n",
       "      <td>노원구</td>\n",
       "      <td>178</td>\n",
       "      <td>2022/05/07 0:09</td>\n",
       "      <td>...</td>\n",
       "      <td>37.67</td>\n",
       "      <td>127.08</td>\n",
       "      <td>37.64</td>\n",
       "      <td>127.07</td>\n",
       "      <td>0</td>\n",
       "      <td>0</td>\n",
       "      <td>0</td>\n",
       "      <td>7670</td>\n",
       "      <td>0</td>\n",
       "      <td>7670</td>\n",
       "    </tr>\n",
       "    <tr>\n",
       "      <th>3</th>\n",
       "      <td>1560</td>\n",
       "      <td>중형 승합</td>\n",
       "      <td>2022-05-07 오전 12:13:00</td>\n",
       "      <td>2022-05-07 오전 12:14:01</td>\n",
       "      <td>2022-05-07 오전 12:14:25</td>\n",
       "      <td>6</td>\n",
       "      <td>70</td>\n",
       "      <td>강동구</td>\n",
       "      <td>235</td>\n",
       "      <td>2022/05/07 0:13</td>\n",
       "      <td>...</td>\n",
       "      <td>37.59</td>\n",
       "      <td>127.08</td>\n",
       "      <td>37.54</td>\n",
       "      <td>127.13</td>\n",
       "      <td>0</td>\n",
       "      <td>0</td>\n",
       "      <td>0</td>\n",
       "      <td>7571</td>\n",
       "      <td>0</td>\n",
       "      <td>7570</td>\n",
       "    </tr>\n",
       "    <tr>\n",
       "      <th>4</th>\n",
       "      <td>7913</td>\n",
       "      <td>중형승합</td>\n",
       "      <td>2022-05-07 오전 12:18:00</td>\n",
       "      <td>2022-05-07 오전 1:15:54</td>\n",
       "      <td>2022-05-07 오전 1:33:16</td>\n",
       "      <td>6</td>\n",
       "      <td>307</td>\n",
       "      <td>동대문구</td>\n",
       "      <td>209</td>\n",
       "      <td>2022/05/07 0:18</td>\n",
       "      <td>...</td>\n",
       "      <td>37.61</td>\n",
       "      <td>127.09</td>\n",
       "      <td>37.57</td>\n",
       "      <td>127.06</td>\n",
       "      <td>0</td>\n",
       "      <td>0</td>\n",
       "      <td>0</td>\n",
       "      <td>7570</td>\n",
       "      <td>0</td>\n",
       "      <td>7670</td>\n",
       "    </tr>\n",
       "  </tbody>\n",
       "</table>\n",
       "<p>5 rows × 23 columns</p>\n",
       "</div>"
      ],
      "text/plain": [
       "     no cartype             receipttime                 settime  \\\n",
       "0  8075   중형 승합  2022-05-07 오전 12:08:21  2022-05-07 오전 12:15:19   \n",
       "1  8231    중형승합  2022-05-07 오전 12:08:51  2022-05-07 오전 12:17:25   \n",
       "2  8279   중형 승합  2022-05-07 오전 12:09:00  2022-05-07 오전 12:26:57   \n",
       "3  1560   중형 승합  2022-05-07 오전 12:13:00  2022-05-07 오전 12:14:01   \n",
       "4  7913    중형승합  2022-05-07 오전 12:18:00   2022-05-07 오전 1:15:54   \n",
       "\n",
       "                 ridetime  startpos1  startpos2 endpos1 endpos2  \\\n",
       "0  2022-05-07 오전 12:30:26          7        235     동작구     155   \n",
       "1  2022-05-07 오전 12:46:23         13        255     관악구     141   \n",
       "2  2022-05-07 오전 12:54:43          8        172     노원구     178   \n",
       "3  2022-05-07 오전 12:14:25          6         70     강동구     235   \n",
       "4   2022-05-07 오전 1:33:16          6        307    동대문구     209   \n",
       "\n",
       "           receipt  ... startlat  startlon  endlat  endlon  whycall  \\\n",
       "0  2022/05/07 0:08  ...    37.53    126.90   37.49  126.90        0   \n",
       "1  2022/05/07 0:08  ...    37.50    126.88   37.47  126.97        0   \n",
       "2  2022/05/07 0:09  ...    37.67    127.08   37.64  127.07        0   \n",
       "3  2022/05/07 0:13  ...    37.59    127.08   37.54  127.13        0   \n",
       "4  2022/05/07 0:18  ...    37.61    127.09   37.57  127.06        0   \n",
       "\n",
       "   gotoschool  gotocharge  endplus  end_destination  startplus  \n",
       "0           0           0     7469                0       7569  \n",
       "1           0           0     7469                0       7568  \n",
       "2           0           0     7670                0       7670  \n",
       "3           0           0     7571                0       7570  \n",
       "4           0           0     7570                0       7670  \n",
       "\n",
       "[5 rows x 23 columns]"
      ]
     },
     "execution_count": 3,
     "metadata": {},
     "output_type": "execute_result"
    }
   ],
   "source": [
    "#딕셔너리에 키 값을 대입해 벨류값을 얻어오는 함수\n",
    "def get_value(k,dic):\n",
    "    for key, value in dic.items():\n",
    "         if k == key:\n",
    "            return value\n",
    "        \n",
    "#string, float등 의사결정나무에서는 사용하기 힘든 변수를 사용할 수 있게끔 만들어주는 함수\n",
    "def get_index(name):\n",
    "    temp_list = data[name].tolist()\n",
    "    temp_set = set(temp_list)\n",
    "    temp_list2 = list(temp_set)\n",
    "    dic= {string:i for i,string in enumerate(temp_list2)}\n",
    "    \n",
    "    for i in range(len(temp_list)):\n",
    "        temp = data.loc[i,name]\n",
    "        temp_value = get_value(temp,dic)\n",
    "        data.loc[i,name] = temp_value\n",
    "        \n",
    "#여기서부터 srartpos1에 있는 string 값들을 전부 숫자로 바꿔주는 작업\n",
    "get_index('startpos1')\n",
    "    \n",
    "#여기서부터 startpos2에 있는 string 값들을 전부 숫자로 바꿔주는 작업\n",
    "get_index('startpos2')\n",
    "    \n",
    "#여기서부터 endpos2에 있는 string 값들을 전부 숫자로 바꿔주는 작업\n",
    "get_index('endpos2')\n",
    "data.drop(columns=[\"Unnamed: 0\"],inplace=True)\n",
    "data['startpos1'] = pd.to_numeric(data['startpos1'])\n",
    "data['startpos2'] = pd.to_numeric(data['startpos2'])\n",
    "# list로 만들기\n",
    "list_whycall=data['whycall'].to_list()\n",
    "list_gotoschool=data['gotoschool'].to_list()\n",
    "list_gotocharge=data['gotocharge'].to_list()\n",
    "# end_destination에 연산결과 추가하기\n",
    "data['end_destination'] = 0\n",
    "for i in range(len(list_whycall)):\n",
    "    if (list_whycall[i] *100+ \n",
    "                           list_gotoschool[i]*10+\n",
    "                           list_gotocharge[i] == 100) :\n",
    "        data.iloc[i, 21] = 3\n",
    "    elif (list_whycall[i] *100+ \n",
    "                           list_gotoschool[i]*10+\n",
    "                           list_gotocharge[i] == 10) :\n",
    "        data.iloc[i, 21] = 2\n",
    "    elif (list_whycall[i] *100+ \n",
    "                           list_gotoschool[i]*10+\n",
    "                           list_gotocharge[i] == 10) :\n",
    "        data.iloc[i, 21] = 1\n",
    "    else :\n",
    "        data.iloc[i, 21] = 0\n",
    "#변수 endlat과 endlon을 합치는 작업\n",
    "te_list = data['startlat'].tolist()\n",
    "for i in range (len(te_list)):\n",
    "    data.loc[i,'startplus'] = ['1']\n",
    "\n",
    "for i in range (len(te_list)):\n",
    "    a = data.loc[i,'startlat']\n",
    "    b = data.loc[i,'startlon']\n",
    "    \n",
    "    a = a * 10\n",
    "    b = b * 10\n",
    "    a = a % 100\n",
    "    b = b % 100\n",
    "    a = int(a)\n",
    "    b = int(b)\n",
    "    new = a*100 + b\n",
    "    data.loc[i,'startplus'] = [new]\n",
    "data.head()"
   ]
  },
  {
   "cell_type": "code",
   "execution_count": 4,
   "id": "3500de34",
   "metadata": {},
   "outputs": [
    {
     "data": {
      "text/plain": [
       "array([7469, 7670, 7571, 7570, 7569, 7568, 7671, 7470, 7669, 7471, 7468],\n",
       "      dtype=int64)"
      ]
     },
     "execution_count": 4,
     "metadata": {},
     "output_type": "execute_result"
    }
   ],
   "source": [
    "X = data.loc[:,[\n",
    "    'hour','receipt-ride','startpos1',\n",
    "    'startpos2','end_destination', 'startplus']]\n",
    "y = data['endplus']\n",
    "y.unique()"
   ]
  },
  {
   "cell_type": "code",
   "execution_count": 5,
   "id": "0658da87",
   "metadata": {},
   "outputs": [],
   "source": [
    "X_train, X_test, y_train, y_test = train_test_split(\n",
    "    X, y, test_size=0.1, random_state=42\n",
    ")"
   ]
  },
  {
   "cell_type": "markdown",
   "id": "df138a92",
   "metadata": {},
   "source": [
    "# Adaboost"
   ]
  },
  {
   "cell_type": "code",
   "execution_count": 6,
   "id": "b3a3a913",
   "metadata": {},
   "outputs": [],
   "source": [
    "#base model : 의사결정나무(랜덤 스테이트 10 설정)\n",
    "base_model = DecisionTreeRegressor(random_state=10)"
   ]
  },
  {
   "cell_type": "code",
   "execution_count": 7,
   "id": "cafc77a5",
   "metadata": {},
   "outputs": [],
   "source": [
    "#ada model 생성(파라미터는 아래와 같다.)\n",
    "ada_model = AdaBoostRegressor(\n",
    "        base_estimator=base_model,\n",
    "        n_estimators=10,\n",
    "        learning_rate=0.1).fit(X_train,y_train)"
   ]
  },
  {
   "cell_type": "code",
   "execution_count": 8,
   "id": "800ba2f5",
   "metadata": {},
   "outputs": [
    {
     "name": "stdout",
     "output_type": "stream",
     "text": [
      "train set_ada_model :  0.9609165799403795\n",
      "test set_ada_model :  0.4293244091785995\n"
     ]
    }
   ],
   "source": [
    "#주어진 데이터와 레이블의 \n",
    "#train, test 각각의 평균 정확도를 반환\n",
    "print('train set_ada_model : ',ada_model.score(X_train,y_train))\n",
    "print('test set_ada_model : ',ada_model.score(X_test,y_test))"
   ]
  },
  {
   "cell_type": "code",
   "execution_count": 9,
   "id": "bc42381e",
   "metadata": {},
   "outputs": [
    {
     "name": "stdout",
     "output_type": "stream",
     "text": [
      "MSE: 142.64\n",
      "MAE:  1.948311363171878\n",
      "RMSE: 11.94\n",
      "R2: 0.96\n"
     ]
    }
   ],
   "source": [
    "#train 데이터의 각종 회귀지표 분석\n",
    "ytr_pred=ada_model.predict(X_train)\n",
    "ada_mse = mean_squared_error(ytr_pred,y_train)\n",
    "ada_r2 = r2_score(ytr_pred,y_train)\n",
    "print(\"MSE: %.2f\" % ada_mse)\n",
    "print('MAE: ', mean_absolute_error(y_train, ytr_pred))\n",
    "print(\"RMSE: %.2f\" % np.sqrt(ada_mse))\n",
    "print(\"R2: %.2f\" % ada_r2)"
   ]
  },
  {
   "cell_type": "code",
   "execution_count": 10,
   "id": "eacf1280",
   "metadata": {},
   "outputs": [
    {
     "name": "stdout",
     "output_type": "stream",
     "text": [
      "MSE: 2166.68\n",
      "MAE:  20.146233974358974\n",
      "RMSE: 46.55\n",
      "R2: 0.43\n"
     ]
    }
   ],
   "source": [
    "#test 데이터의 각종 회귀지표 분석\n",
    "yte_pred=ada_model.predict(X_test)\n",
    "ada_mse = mean_squared_error(y_test, yte_pred)\n",
    "ada_r2 = r2_score(y_test, yte_pred)\n",
    "print(\"MSE: %.2f\" % ada_mse)\n",
    "print('MAE: ', mean_absolute_error(y_test, yte_pred))\n",
    "print(\"RMSE: %.2f\" % np.sqrt(ada_mse))\n",
    "print(\"R2: %.2f\" % ada_r2)"
   ]
  },
  {
   "cell_type": "code",
   "execution_count": 11,
   "id": "b52519ff",
   "metadata": {},
   "outputs": [
    {
     "data": {
      "image/png": "[encoded data removed]",
      "text/plain": [
       "<Figure size 432x288 with 1 Axes>"
      ]
     },
     "metadata": {
      "needs_background": "light"
     },
     "output_type": "display_data"
    }
   ],
   "source": [
    "#y predict 시각화\n",
    "x_ax = range(len(y_test))\n",
    "plt.scatter(x_ax, y_test, s=5, color=\"blue\", label=\"original\")\n",
    "plt.plot(x_ax, yte_pred, lw=0.8, color=\"red\", label=\"predicted\")\n",
    "plt.rcParams[\"figure.figsize\"] = (12,6)\n",
    "plt.legend()\n",
    "plt.show()"
   ]
  },
  {
   "cell_type": "markdown",
   "id": "71ad82ac",
   "metadata": {},
   "source": [
    "# Gradient boost"
   ]
  },
  {
   "cell_type": "code",
   "execution_count": 12,
   "id": "fe080a93",
   "metadata": {},
   "outputs": [],
   "source": [
    "#gb model 생성(파라미터는 아래와 같다.)\n",
    "gb_model = GradientBoostingRegressor(\n",
    "        n_estimators=1000,\n",
    "        max_depth=8,\n",
    "        learning_rate=0.1,\n",
    "        min_samples_split=3)"
   ]
  },
  {
   "cell_type": "code",
   "execution_count": 13,
   "id": "722f8503",
   "metadata": {},
   "outputs": [
    {
     "name": "stdout",
     "output_type": "stream",
     "text": [
      "train set_ada_model :  0.9771327811274912\n",
      "test set_ada_model :  0.5157153176764138\n"
     ]
    }
   ],
   "source": [
    "#주어진 데이터와 레이블의 \n",
    "#train, test 각각의 평균 정확도를 반환\n",
    "gb_model.fit(X_train,y_train)\n",
    "print('train set_ada_model : ',gb_model.score(X_train,y_train))\n",
    "print('test set_ada_model : ',gb_model.score(X_test,y_test))"
   ]
  },
  {
   "cell_type": "code",
   "execution_count": 14,
   "id": "c3357e74",
   "metadata": {},
   "outputs": [
    {
     "name": "stdout",
     "output_type": "stream",
     "text": [
      "MSE: 83.46\n",
      "MAE:  1.3838924214393034\n",
      "RMSE: 9.14\n",
      "R2: 0.43\n"
     ]
    }
   ],
   "source": [
    "#train 데이터의 각종 회귀지표 분석\n",
    "ytr_pred = gb_model.predict(X_train)\n",
    "gb_mse = mean_squared_error(y_train,ytr_pred)\n",
    "gb_r2 = r2_score(y_train, ytr_pred)\n",
    "\n",
    "print(\"MSE: %.2f\" % gb_mse)\n",
    "print('MAE: ', mean_absolute_error(y_train, ytr_pred))\n",
    "print(\"RMSE: %.2f\" % np.sqrt(gb_mse))\n",
    "print(\"R2: %.2f\" % ada_r2)"
   ]
  },
  {
   "cell_type": "code",
   "execution_count": 15,
   "id": "37a3fb1b",
   "metadata": {},
   "outputs": [
    {
     "name": "stdout",
     "output_type": "stream",
     "text": [
      "MSE: 1838.68\n",
      "MAE:  25.52824931955397\n",
      "RMSE: 42.88\n",
      "R2: 0.43\n"
     ]
    }
   ],
   "source": [
    "#test 데이터의 각종 회귀지표 분석\n",
    "yte_pred = gb_model.predict(X_test)\n",
    "gb_mse = mean_squared_error(y_test,yte_pred)\n",
    "gb_r2 = r2_score(y_test, yte_pred)\n",
    "\n",
    "print(\"MSE: %.2f\" % gb_mse)\n",
    "print('MAE: ', mean_absolute_error(y_test, yte_pred))\n",
    "print(\"RMSE: %.2f\" % np.sqrt(gb_mse))\n",
    "print(\"R2: %.2f\" % ada_r2)"
   ]
  },
  {
   "cell_type": "code",
   "execution_count": 16,
   "id": "27dd23db",
   "metadata": {},
   "outputs": [
    {
     "data": {
      "image/png": "[encoded data removed]",
      "text/plain": [
       "<Figure size 864x432 with 1 Axes>"
      ]
     },
     "metadata": {
      "needs_background": "light"
     },
     "output_type": "display_data"
    }
   ],
   "source": [
    "#y predict 시각화\n",
    "x_ax = range(len(y_test))\n",
    "plt.scatter(x_ax, y_test, s=5, color=\"blue\", label=\"original\")\n",
    "#plt.plot(x_ax, bg_ytr_pred, lw=0.8, color=\"red\", label=\"predicted\")\n",
    "plt.plot(x_ax, yte_pred, lw=0.8, color=\"red\", label=\"predicted\")\n",
    "plt.rcParams[\"figure.figsize\"] = (12,6)\n",
    "plt.legend()\n",
    "plt.show()"
   ]
  }
 ],
 "metadata": {
  "kernelspec": {
   "display_name": "Python 3 (ipykernel)",
   "language": "python",
   "name": "python3"
  },
  "language_info": {
   "codemirror_mode": {
    "name": "ipython",
    "version": 3
   },
   "file_extension": ".py",
   "mimetype": "text/x-python",
   "name": "python",
   "nbconvert_exporter": "python",
   "pygments_lexer": "ipython3",
   "version": "3.9.7"
  }
 },
 "nbformat": 4,
 "nbformat_minor": 5
}
